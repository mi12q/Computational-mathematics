{
 "cells": [
  {
   "cell_type": "code",
   "execution_count": 4,
   "id": "5c760cbe-ad51-4219-8eb9-6381139199e5",
   "metadata": {},
   "outputs": [],
   "source": [
    "import math\n",
    "import numpy as np\n",
    "import matplotlib.pyplot as plt"
   ]
  },
  {
   "cell_type": "code",
   "execution_count": 5,
   "id": "e5ef041a-dd10-4703-81b6-b2a9464ec5a6",
   "metadata": {},
   "outputs": [],
   "source": [
    "def iteration(y0,dy0,x,h):\n",
    "    y = y0 + h*dy0\n",
    "    dy = 100*(y-math.sqrt(5))/(x-2)**2\n",
    "    return y,dy"
   ]
  },
  {
   "cell_type": "code",
   "execution_count": 6,
   "id": "2e9d63ea-975d-4c43-9106-1fc5bdee5885",
   "metadata": {},
   "outputs": [],
   "source": [
    "def solve_Runge(y0,x0,x,n):\n",
    "    h = x/n\n",
    "    dy = lambda x,y: 100*(y-math.sqrt(5))/(x-2)**2\n",
    "    dy0 = dy(x0,y0)\n",
    "    y = []; t = 0\n",
    "    x1 = np.linspace(0,x,11)\n",
    "    x2 = np.linspace(0,x,n+1)\n",
    "    for x in x2:\n",
    "        y0, dy0 = iteration(y0,dy0,x,h)\n",
    "        for i in x1:\n",
    "            if abs(i-x) < 10**(-12):\n",
    "                print(\"x = \",x, \"      y = \", y0)\n",
    "    return y0"
   ]
  },
  {
   "cell_type": "code",
   "execution_count": 7,
   "id": "0d39842d-7352-4b6e-8b8b-f36c92e4487c",
   "metadata": {},
   "outputs": [
    {
     "name": "stdout",
     "output_type": "stream",
     "text": [
      "x =  0.0       y =  2.236067977499791\n",
      "x =  0.19999       y =  2.2360679774998853\n",
      "x =  0.39998       y =  2.236067977517507\n",
      "x =  0.59997       y =  2.236067987256545\n",
      "x =  0.79996       y =  2.236090528988489\n",
      "x =  0.99995       y =  2.594105038097092\n",
      "x =  1.19994       y =  80724.55000449518\n",
      "x =  1.39993       y =  793503428130.0955\n",
      "x =  1.59992       y =  2.232013527405639e+21\n",
      "x =  1.79991       y =  7.818593962281567e+34\n",
      "x =  1.9999       y =  6.082527970089147e+58\n"
     ]
    }
   ],
   "source": [
    "y = solve_Runge(math.exp(0.5*math.log(5))+10**(-15),0,1.9999,100)"
   ]
  },
  {
   "cell_type": "code",
   "execution_count": 107,
   "id": "88f64168-341f-4151-b9d6-06219f119a1f",
   "metadata": {},
   "outputs": [],
   "source": [
    "def solve_Runge2(y0,x0,x,n):\n",
    "    h = x/n\n",
    "    dy = lambda x,y: 100*(y-math.sqrt(5))/(x-2)**2\n",
    "    dy0 = dy(x0,y0)\n",
    "    y = []; t = 0\n",
    "    x1 = np.linspace(0,x,11)\n",
    "    x2 = np.linspace(0,x,n+1)\n",
    "    x3 = np.linspace(0,x,101)\n",
    "    points = []\n",
    "    for i in x3:\n",
    "        if i <= x1[-1] and i >= x1[-2]:\n",
    "            points.append(i)\n",
    "    for x in x2:\n",
    "        y0, dy0 = iteration(y0,dy0,x,h)\n",
    "        for i in x1:\n",
    "            if abs(i-x) < 10**(-12) and i != x1[-1]:\n",
    "                print(\"x = \",x, \"      y = \", y0)\n",
    "        if abs(x - x1[-2]) < 10**(-12):\n",
    "            print(\"\\n Точки между \" + str(x1[-2]) + \" и \" + str(x1[-1]) + \":\\n\")\n",
    "                \n",
    "        for i in points:\n",
    "            if abs(i-x) < 10**(-12):\n",
    "                print(\"x = \",x, \"      y = \", y0)\n",
    "\n",
    "    return y0"
   ]
  },
  {
   "cell_type": "code",
   "execution_count": 121,
   "id": "3768bcb7-841c-41c3-98f9-7f2dddf9ae35",
   "metadata": {},
   "outputs": [
    {
     "name": "stdout",
     "output_type": "stream",
     "text": [
      "x =  0.0       y =  2.2360679774997907\n",
      "x =  0.19       y =  2.2360679774997907\n",
      "x =  0.38       y =  2.2360679774997907\n",
      "x =  0.5700000000000001       y =  2.2360679774997907\n",
      "x =  0.76       y =  2.2360679774997907\n",
      "x =  0.95       y =  2.2360679774997907\n",
      "x =  1.1400000000000001       y =  2.2360679774997907\n",
      "x =  1.33       y =  2.2360679774997907\n",
      "x =  1.52       y =  2.2360679774997907\n",
      "x =  1.71       y =  2.2360679774997907\n",
      "\n",
      " Точки между 1.71 и 1.9:\n",
      "\n",
      "x =  1.71       y =  2.2360679774997907\n",
      "x =  1.805       y =  2.2360679774997907\n",
      "x =  1.9       y =  2.2360679774997907\n"
     ]
    }
   ],
   "source": [
    "y = solve_Runge2(math.exp(0.5*math.log(5))+10**(-15),0,1.9,2*10**(6)+621440)"
   ]
  }
 ],
 "metadata": {
  "kernelspec": {
   "display_name": "Python 3 (ipykernel)",
   "language": "python",
   "name": "python3"
  },
  "language_info": {
   "codemirror_mode": {
    "name": "ipython",
    "version": 3
   },
   "file_extension": ".py",
   "mimetype": "text/x-python",
   "name": "python",
   "nbconvert_exporter": "python",
   "pygments_lexer": "ipython3",
   "version": "3.10.12"
  }
 },
 "nbformat": 4,
 "nbformat_minor": 5
}
