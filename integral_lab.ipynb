{
 "cells": [
  {
   "cell_type": "code",
   "execution_count": 47,
   "id": "b2cbdac2-0c64-4df1-ae06-a60a4ec508a4",
   "metadata": {},
   "outputs": [],
   "source": [
    "import numpy as np\n",
    "import sympy as sp\n",
    "import matplotlib.pyplot as plt\n",
    "import math     "
   ]
  },
  {
   "cell_type": "code",
   "execution_count": 48,
   "id": "9eef63ed-3f7c-4d57-8e79-e3f0f57c6b8c",
   "metadata": {},
   "outputs": [],
   "source": [
    "def calculate_der(n,point):\n",
    "    x = sp.symbols('x')\n",
    "    f = sp.sin(1000*x) / (1 + x)\n",
    "    df = sp.diff(f, x)\n",
    "    if n == 1:\n",
    "        return df.evalf(subs={x: point})\n",
    "    for i in range(n-1):\n",
    "        df = sp.diff(df,x)\n",
    "\n",
    "    return df.evalf(subs={x: point})\n"
   ]
  },
  {
   "cell_type": "code",
   "execution_count": 49,
   "id": "0efd82e8-8ab9-4a69-bc49-51886cfb7a10",
   "metadata": {},
   "outputs": [],
   "source": [
    "def max_der(a,b,n):\n",
    "    x = np.linspace(a,b,10**(3))\n",
    "    y = []\n",
    "    for i in x:\n",
    "        y.append(calculate_der(n,i))\n",
    "    return max(y)"
   ]
  },
  {
   "cell_type": "markdown",
   "id": "321d9b6b-bf0c-4d28-8927-267db552ef86",
   "metadata": {},
   "source": [
    "# Вычисление нужного числа отрезков для достижения точности"
   ]
  },
  {
   "cell_type": "code",
   "execution_count": 50,
   "id": "76fbc686-7885-468a-9be2-619dffa9420e",
   "metadata": {},
   "outputs": [
    {
     "name": "stdout",
     "output_type": "stream",
     "text": [
      "287077\n"
     ]
    }
   ],
   "source": [
    "def n_Trapezoidal(a,b,eps):\n",
    "    M = max_der(a,b,2)\n",
    "    C = 12\n",
    "    h = math.sqrt(eps * C/ ((b-a)*M))\n",
    "    n = int((b-a)/h)\n",
    "    return n \n",
    "n = n_Trapezoidal(0,1,10**(-6))\n",
    "print(n)"
   ]
  },
  {
   "cell_type": "code",
   "execution_count": 51,
   "id": "e84ee3a5-a974-4f74-83a0-d14ccde401f8",
   "metadata": {},
   "outputs": [
    {
     "name": "stdout",
     "output_type": "stream",
     "text": [
      "4294\n"
     ]
    }
   ],
   "source": [
    "def n_Simpson(a,b,eps):\n",
    "    M = max_der(a,b,4)\n",
    "    C = 2880\n",
    "    h = (eps * C/ ((b-a)*M))**(1/4)\n",
    "    n = int((b-a)/h)\n",
    "    return n \n",
    "n = n_Simpson(0,1,10**(-6))\n",
    "print(n)"
   ]
  },
  {
   "cell_type": "code",
   "execution_count": 52,
   "id": "88dfbeb3-9065-4db5-af87-1197053a5c58",
   "metadata": {},
   "outputs": [
    {
     "name": "stdout",
     "output_type": "stream",
     "text": [
      "3506\n"
     ]
    }
   ],
   "source": [
    "def n_3_8(a,b,eps):\n",
    "    M = max_der(a,b,4)\n",
    "    C = 6480\n",
    "    h = (eps * C/ ((b-a)*M))**(1/4)\n",
    "    n = int((b-a)/h)\n",
    "    return n \n",
    "n = n_3_8(0,1,10**(-6))\n",
    "print(n)"
   ]
  },
  {
   "cell_type": "markdown",
   "id": "126c130e-bb52-47c2-8402-641b23f7114d",
   "metadata": {},
   "source": [
    "# Правило трапеции"
   ]
  },
  {
   "cell_type": "code",
   "execution_count": 53,
   "id": "90f51d07-b515-4f7a-8c39-998a5955e100",
   "metadata": {},
   "outputs": [
    {
     "name": "stdout",
     "output_type": "stream",
     "text": [
      "0.0007186011558477808\n"
     ]
    }
   ],
   "source": [
    "n = n_Trapezoidal(0,1,10**(-6))\n",
    "def Trapezoidal_rule(f,a,b,n):\n",
    "    S = 0\n",
    "    x = np.linspace(a,b,n)\n",
    "    for i in range(1,len(x)):\n",
    "        S += (f(x[i-1]) + f(x[i]))/2 * (x[i]-x[i-1])\n",
    "    return S\n",
    "\n",
    "f = lambda x: math.sin(1000*x) / (1 + x)\n",
    "I_trap = Trapezoidal_rule(f,0,1,n)\n",
    "print(I_trap)\n"
   ]
  },
  {
   "cell_type": "markdown",
   "id": "861852ac-8d8a-4652-a848-63098e6b6f54",
   "metadata": {},
   "source": [
    "# Правило Симпсона"
   ]
  },
  {
   "cell_type": "code",
   "execution_count": 54,
   "id": "8743966a-8e7e-44cb-a491-a32725074a69",
   "metadata": {},
   "outputs": [
    {
     "name": "stdout",
     "output_type": "stream",
     "text": [
      "0.0007186026195317587\n"
     ]
    }
   ],
   "source": [
    "n = n_Simpson(0,1,10**(-6))\n",
    "def Simpson_rule(f,a,b,n):\n",
    "    S = 0\n",
    "    x = np.linspace(a,b,n)\n",
    "    for i in range(1,len(x)):\n",
    "        S += (f(x[i-1]) + 4 * f((x[i-1] + x[i])/2) + f(x[i]))/6 * (x[i]-x[i-1])\n",
    "    return S\n",
    "\n",
    "f = lambda x: math.sin(1000*x) / (1 + x)\n",
    "I_simpson = Simpson_rule(f,0,1,n)\n",
    "print(I_simpson)"
   ]
  },
  {
   "cell_type": "markdown",
   "id": "6a81b01f-65db-4ce5-8af8-d0417b6ae9b8",
   "metadata": {},
   "source": [
    "# Правило 3/8"
   ]
  },
  {
   "cell_type": "code",
   "execution_count": 55,
   "id": "47971aa0-0e73-4d05-addb-fa25d7b6d439",
   "metadata": {},
   "outputs": [
    {
     "name": "stdout",
     "output_type": "stream",
     "text": [
      "0.0007186026201146368\n"
     ]
    }
   ],
   "source": [
    "n = n_3_8(0,1,10**(-6))\n",
    "def three_eight_rule(f,a,b,n):\n",
    "    S = 0\n",
    "    x = np.linspace(a,b,n)\n",
    "    for i in range(1,len(x)):\n",
    "        S += (f(x[i-1]) + 3 * f((2*x[i-1] + x[i])/3) + 3*f((x[i-1]+2*x[i])/3)+f(x[i]))/8 * (x[i]-x[i-1])\n",
    "    return S\n",
    "\n",
    "f = lambda x: math.sin(1000*x) / (1 + x)\n",
    "I_3_8 = three_eight_rule(f,0,1,n)\n",
    "print(I_3_8)"
   ]
  },
  {
   "cell_type": "markdown",
   "id": "e89cbd6b-6071-4fc9-94b6-db6fcd981743",
   "metadata": {},
   "source": [
    "# Метод Гаусса"
   ]
  },
  {
   "cell_type": "code",
   "execution_count": 70,
   "id": "6d91806f-e0fe-4d61-8098-7ed13cfab6c2",
   "metadata": {},
   "outputs": [],
   "source": [
    "from sympy import symbols \n",
    "from sympy import solve\n",
    "import math\n",
    "def Gauss_integration(f, a, b, n):\n",
    "    f1 = lambda x: - math.cos(1000*x)/1000\n",
    "    f2 = lambda x: (math.sin(1000*x)-1000*x*math.cos(1000*x))/10**6\n",
    "    f3 = lambda x: (1000*x*math.sin(1000*x)+(1-500000*x**2)*math.cos(1000*x))/(5*10**8)\n",
    "    f4 = lambda x: ((1500000*x**2-3)*math.sin(1000*x)+(3000*x-500000000*x**3)*math.cos(1000*x))/(5*10**11)\n",
    "    integral1 = f1(1)-f1(0)\n",
    "    integral2 = f2(1)-f2(0)\n",
    "    integral3 = f3(1)-f3(0)\n",
    "    integral4 = f4(1)-f4(0)\n",
    "    c1, c2, x1, x2 = symbols(\"c1, c2, x1, x2\")\n",
    "    equations = [c1 + c2 - integral1, c1*x1 + c2*x2 - integral2, c1*x1**2 + c2*x2**2 - integral3, c1*x1**3 + c2*x2**3 - integral4]\n",
    "    solutions = solve(equations, [x1,x2,c1,c2], dict=True)\n",
    "    C1 = solutions[0][c1]; C12 = solutions[1][c1]\n",
    "    C2 = solutions[0][c2]; C22 = solutions[1][c2]\n",
    "    X1 = solutions[0][x1]; X12  = solutions[1][x1]\n",
    "    X2 = solutions[0][x2]; X22 = solutions[1][x2]\n",
    "    I1 = C1*1/(1+X1) + C2*1/(1+X2)\n",
    "    I2 = C12*1/(1+X12) + C22*1/(1+X22)\n",
    "    print(\"Weights: \", C1, C2)\n",
    "    print(\"Nodes: \", X1, X2)\n",
    "    print(\"Integral: \", I1)\n",
    "    # print(\"\\n\")\n",
    "    # print(\"Weights: \", C12, C22)\n",
    "    # print(\"Nodes: \", X12, X22)\n",
    "    # print(\"Integral: \",I2)\n",
    "    return I1, I2"
   ]
  },
  {
   "cell_type": "code",
   "execution_count": 71,
   "id": "6012ca7f-0d51-4ec2-9d3d-7da9c78ff286",
   "metadata": {},
   "outputs": [
    {
     "name": "stdout",
     "output_type": "stream",
     "text": [
      "Weights:  -0.000562392143827906 0.00100001306753720\n",
      "Nodes:  0.998517771869666 6.35353884913004e-6\n",
      "Integral:  0.000718602089116272\n"
     ]
    }
   ],
   "source": [
    "f = lambda x: math.sin(1000*x) / (1 + x)\n",
    "I1, I2 = Gauss_integration(f, 0, 1, 2)"
   ]
  },
  {
   "cell_type": "code",
   "execution_count": 69,
   "id": "be08fad3-8e74-4749-8d35-da1a09e5a4c2",
   "metadata": {},
   "outputs": [
    {
     "name": "stdout",
     "output_type": "stream",
     "text": [
      "9.3327e-10\n",
      "-5.3042e-10\n",
      "-5.3100e-10\n"
     ]
    }
   ],
   "source": [
    "print(\"{:.4e}\".format(I1-I_trap))\n",
    "print(\"{:.4e}\".format(I1-I_simpson))\n",
    "print(\"{:.4e}\".format(I1-I_3_8))"
   ]
  }
 ],
 "metadata": {
  "kernelspec": {
   "display_name": "Python 3 (ipykernel)",
   "language": "python",
   "name": "python3"
  },
  "language_info": {
   "codemirror_mode": {
    "name": "ipython",
    "version": 3
   },
   "file_extension": ".py",
   "mimetype": "text/x-python",
   "name": "python",
   "nbconvert_exporter": "python",
   "pygments_lexer": "ipython3",
   "version": "3.10.12"
  }
 },
 "nbformat": 4,
 "nbformat_minor": 5
}
