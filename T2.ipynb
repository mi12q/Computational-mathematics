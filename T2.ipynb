{
 "cells": [
  {
   "cell_type": "code",
   "execution_count": 19,
   "id": "b2cbdac2-0c64-4df1-ae06-a60a4ec508a4",
   "metadata": {},
   "outputs": [],
   "source": [
    "import numpy as np\n",
    "import matplotlib.pyplot as plt\n",
    "import math     "
   ]
  },
  {
   "cell_type": "markdown",
   "id": "126c130e-bb52-47c2-8402-641b23f7114d",
   "metadata": {},
   "source": [
    "# Правило трапеции"
   ]
  },
  {
   "cell_type": "code",
   "execution_count": 20,
   "id": "2b771756-85a6-4128-89a7-8c3b4cb418c5",
   "metadata": {},
   "outputs": [
    {
     "name": "stdout",
     "output_type": "stream",
     "text": [
      "0.010006097785331954\n"
     ]
    }
   ],
   "source": [
    "def Trapezoidal_rule(f,a,b):\n",
    "    S = 0\n",
    "    x = np.linspace(a,b,10**(6))\n",
    "    for i in range(1,len(x)):\n",
    "        S += (f(x[i-1]) + f(x[i]))/2 * (x[i]-x[i-1])\n",
    "    return S\n",
    "\n",
    "f = lambda x: math.sin(100*x) * math.exp(-x**2) * math.cos(2*x)\n",
    "I = Trapezoidal_rule(f,0,3)\n",
    "print(I)"
   ]
  },
  {
   "cell_type": "markdown",
   "id": "861852ac-8d8a-4652-a848-63098e6b6f54",
   "metadata": {},
   "source": [
    "# Правило Симпсона"
   ]
  },
  {
   "cell_type": "code",
   "execution_count": 21,
   "id": "3358a856-4c46-4400-b6a9-3969e98b053d",
   "metadata": {},
   "outputs": [
    {
     "name": "stdout",
     "output_type": "stream",
     "text": [
      "0.010006097860330895\n"
     ]
    }
   ],
   "source": [
    "def Simpson_rule(f,a,b):\n",
    "    S = 0\n",
    "    x = np.linspace(a,b,10**(6))\n",
    "    for i in range(1,len(x)):\n",
    "        S += (f(x[i-1]) + 4 * f((x[i-1] + x[i])/2) + f(x[i]))/6 * (x[i]-x[i-1])\n",
    "    return S\n",
    "\n",
    "f = lambda x: math.sin(100*x) * math.exp(-x**2) * math.cos(2*x)\n",
    "I = Simpson_rule(f,0,3)\n",
    "print(I)"
   ]
  },
  {
   "cell_type": "markdown",
   "id": "6a81b01f-65db-4ce5-8af8-d0417b6ae9b8",
   "metadata": {},
   "source": [
    "# Правило 3/8"
   ]
  },
  {
   "cell_type": "code",
   "execution_count": 22,
   "id": "17e23073-4e81-401e-936f-0b6ce8ab66a3",
   "metadata": {},
   "outputs": [
    {
     "name": "stdout",
     "output_type": "stream",
     "text": [
      "0.010006097860330873\n"
     ]
    }
   ],
   "source": [
    "def three_eight_rule(f,a,b):\n",
    "    S = 0\n",
    "    x = np.linspace(a,b,10**(6))\n",
    "    for i in range(1,len(x)):\n",
    "        S += (f(x[i-1]) + 3 * f((2*x[i-1] + x[i])/3) + 3*f((x[i-1]+2*x[i])/3)+f(x[i]))/8 * (x[i]-x[i-1])\n",
    "    return S\n",
    "\n",
    "f = lambda x: math.sin(100*x) * math.exp(-x**2) * math.cos(2*x)\n",
    "I = three_eight_rule(f,0,3)\n",
    "print(I)"
   ]
  },
  {
   "cell_type": "code",
   "execution_count": null,
   "id": "47971aa0-0e73-4d05-addb-fa25d7b6d439",
   "metadata": {},
   "outputs": [],
   "source": []
  }
 ],
 "metadata": {
  "kernelspec": {
   "display_name": "Python 3 (ipykernel)",
   "language": "python",
   "name": "python3"
  },
  "language_info": {
   "codemirror_mode": {
    "name": "ipython",
    "version": 3
   },
   "file_extension": ".py",
   "mimetype": "text/x-python",
   "name": "python",
   "nbconvert_exporter": "python",
   "pygments_lexer": "ipython3",
   "version": "3.10.12"
  }
 },
 "nbformat": 4,
 "nbformat_minor": 5
}
