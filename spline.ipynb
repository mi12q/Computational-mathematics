{
 "cells": [
  {
   "cell_type": "code",
   "execution_count": null,
   "id": "30f6f47c-c5be-499b-823e-ac89691cb27f",
   "metadata": {},
   "outputs": [],
   "source": [
    "import numpy as np\n",
    "import math\n",
    "\n",
    "def func(coef):\n",
    "    return np.poly1d(coef)\n",
    "\n",
    "def calculate_coeffs(coef,x,y):\n",
    "    P = func(coef)\n",
    "    dP = P.deriv()\n",
    "    n = len(x)\n",
    "    a0 = np.zeros(n); a1 = np.zeros(n); a2 = np.zeros(n); a3 = np.zeros(n)\n",
    "    for i in range(0,n-1):\n",
    "        a3[i] = (dP(x[i+1])*(x[i+1]-x[i]) - 2*(y[i+1]-y[i]) + dP(x[i])*(x[i+1]-x[i]))/(x[i+1]-x[i])**(3)\n",
    "        a2[i] = (-dP(x[i+1])*(x[i+1]-x[i])*(x[i+1]+2*x[i])+3*(y[i+1]-y[i])*(x[i+1]+x[i]))/(x[i+1]-x[i])**(3) - (dP(x[i])*(x[i+1]-x[i])*(2*x[i+1]+x[i]))/(x[i+1]-x[i])**(3)\n",
    "        a1[i] = (dP(x[i+1])*x[i]*(x[i+1]-x[i])*(2*x[i+1]+x[i])-6*(y[i+1]-y[i])*x[i]*x[i+1])/(x[i+1]-x[i])**(3) + (dP(x[i])*x[i+1]*(x[i+1]-x[i])*(x[i+1]+2*x[i]))/(x[i+1]-x[i])**(3)\n",
    "        a0[i] = (-dP(x[i+1])*x[i]**2*(x[i+1])*(x[i+1]-x[i])+y[i+1]*x[i]**2*(3*x[i+1]-x[i]))/(x[i+1]-x[i])**(3) + (y[i]*x[i+1]**2*(x[i+1]-3*x[i])-dP(x[i])*x[i]*x[i+1]**2*(x[i+1]-x[i]))/(x[i+1]-x[i])**(3)\n",
    "\n",
    "    return a0,a1,a2,a3\n",
    "\n",
    "def calculate_spline(i,a,b,c,d,x):\n",
    "    return a[i] + b[i]*x + (c[i])*x**2 + (d[i])*x**3\n",
    "\n",
    "\n",
    "def extrapolate(a,b,c,d,x,point):\n",
    "    n = len(a0)\n",
    "    for i in range(n):\n",
    "        if point <= x[i]:\n",
    "            return calculate_spline(i,a,b,c,d,point)\n",
    "    return calculate_spline(n-1,a,b,c,d,point - x[n-1])\n",
    "\n",
    "x = []\n",
    "y = []\n",
    "N = int(input())\n",
    "for i in range(N):\n",
    "    inp = input().split(\" \")\n",
    "    x.append(float(inp[0]))\n",
    "    y.append(float(inp[1]))\n",
    "n = int(input())\n",
    "coefs = [float(num) for num in input().split(\" \", n-1)]\n",
    "coefs.reverse()\n",
    "value = float(input())\n",
    "a0,a1,a2,a3 = calculate_coeffs(coefs,x,y)\n",
    "for i in range(len(a1)-1):\n",
    "    print(a3[i], a2[i],  a1[i], a0[i])\n",
    "solution = extrapolate(a0,a1,a2,a3,x,value)\n",
    "print(value, solution)"
   ]
  }
 ],
 "metadata": {
  "kernelspec": {
   "display_name": "Python 3 (ipykernel)",
   "language": "python",
   "name": "python3"
  },
  "language_info": {
   "codemirror_mode": {
    "name": "ipython",
    "version": 3
   },
   "file_extension": ".py",
   "mimetype": "text/x-python",
   "name": "python",
   "nbconvert_exporter": "python",
   "pygments_lexer": "ipython3",
   "version": "3.10.12"
  }
 },
 "nbformat": 4,
 "nbformat_minor": 5
}
